{
 "cells": [
  {
   "cell_type": "markdown",
   "id": "382a09d4",
   "metadata": {},
   "source": [
    "#Their is multiple class in the application\n",
    "1.Agregation 2. Inheritance"
   ]
  },
  {
   "cell_type": "code",
   "execution_count": null,
   "id": "e17b10ca",
   "metadata": {},
   "outputs": [],
   "source": [
    "1.Agregation is Has-A\n",
    "2.Inheritance Is-A"
   ]
  },
  {
   "cell_type": "code",
   "execution_count": null,
   "id": "edc322da",
   "metadata": {},
   "outputs": [],
   "source": [
    "#inheritance\n",
    "example:-consider two class product and smartphone \n",
    "    now smartphone is A product\n",
    "    \n",
    "    2.class car and vechicle ,car is vechicle"
   ]
  },
  {
   "cell_type": "code",
   "execution_count": null,
   "id": "6263a832",
   "metadata": {},
   "outputs": [],
   "source": [
    "#agregation\n",
    "example:-consider two class Customer and Address\n",
    "    Customer Has a Address"
   ]
  },
  {
   "cell_type": "code",
   "execution_count": 44,
   "id": "a1c09620",
   "metadata": {},
   "outputs": [],
   "source": [
    "#example of agregation\n",
    "class  Customer:\n",
    "    def __init__(self,name,age,address):\n",
    "        self.name=name\n",
    "        self.age=age\n",
    "        self.address=address\n",
    "    def edit_profile(self,new_name,new_age):\n",
    "        self.name=new_name \n",
    "        self.age=new_age\n",
    "    def change_add(self,new_city,new_pin,new_state):\n",
    "        self.address.change_address(new_city,new_pin,new_state)\n",
    "        \n",
    "        "
   ]
  },
  {
   "cell_type": "code",
   "execution_count": 57,
   "id": "524c1d8b",
   "metadata": {},
   "outputs": [],
   "source": [
    "class Address:\n",
    "    def __init__(self,city,pincode,state):\n",
    "        self.city=city\n",
    "        self.pincode=pincode\n",
    "        self.state=state\n",
    "        \n",
    "    def change_address(self,new_city,new_pin,new_state):\n",
    "        self.city=new_city\n",
    "        self.pincode=new_pin\n",
    "        self.state=new_state\n",
    "        \n",
    "    "
   ]
  },
  {
   "cell_type": "code",
   "execution_count": 46,
   "id": "53efbcb0",
   "metadata": {},
   "outputs": [],
   "source": [
    "add=Address('solapur',413401,'maharashtra')"
   ]
  },
  {
   "cell_type": "code",
   "execution_count": 47,
   "id": "b3f7e2c0",
   "metadata": {},
   "outputs": [],
   "source": [
    "cust=Customer('pratik',20,add)"
   ]
  },
  {
   "cell_type": "code",
   "execution_count": 53,
   "id": "cf5c7f09",
   "metadata": {},
   "outputs": [
    {
     "data": {
      "text/plain": [
       "'solapur'"
      ]
     },
     "execution_count": 53,
     "metadata": {},
     "output_type": "execute_result"
    }
   ],
   "source": [
    "cust.address.city"
   ]
  },
  {
   "cell_type": "code",
   "execution_count": 49,
   "id": "14d0aa35",
   "metadata": {},
   "outputs": [],
   "source": [
    "cust.edit_profile('shiv','infinity')"
   ]
  },
  {
   "cell_type": "code",
   "execution_count": 54,
   "id": "a55a68f6",
   "metadata": {},
   "outputs": [],
   "source": [
    "cust.change_add('pune',127207,'maha')"
   ]
  },
  {
   "cell_type": "code",
   "execution_count": 60,
   "id": "be0355dd",
   "metadata": {},
   "outputs": [
    {
     "data": {
      "text/plain": [
       "127207"
      ]
     },
     "execution_count": 60,
     "metadata": {},
     "output_type": "execute_result"
    }
   ],
   "source": [
    "cust.address.pincode"
   ]
  },
  {
   "cell_type": "code",
   "execution_count": null,
   "id": "803c9a86",
   "metadata": {},
   "outputs": [],
   "source": [
    "#child class can inherite Data,method,counstructor and private member not inheritaed"
   ]
  },
  {
   "cell_type": "code",
   "execution_count": null,
   "id": "521436c9",
   "metadata": {},
   "outputs": [],
   "source": [
    "#eg.2"
   ]
  },
  {
   "cell_type": "code",
   "execution_count": 16,
   "id": "2524293e",
   "metadata": {},
   "outputs": [],
   "source": [
    "class User:\n",
    "    def login(self):\n",
    "        print('login')\n",
    "    def register(self):\n",
    "        print(\"Register\")\n",
    "class Student(User):\n",
    "    def enroll(self):\n",
    "        print('Enroll')\n",
    "        \n",
    "    def review(self):\n",
    "        print('review')"
   ]
  },
  {
   "cell_type": "code",
   "execution_count": 17,
   "id": "69c389b1",
   "metadata": {},
   "outputs": [],
   "source": [
    "stu=Student()"
   ]
  },
  {
   "cell_type": "code",
   "execution_count": 18,
   "id": "f7c0fa1f",
   "metadata": {},
   "outputs": [
    {
     "name": "stdout",
     "output_type": "stream",
     "text": [
      "Register\n"
     ]
    }
   ],
   "source": [
    "stu.register()"
   ]
  },
  {
   "cell_type": "code",
   "execution_count": null,
   "id": "79a0ed34",
   "metadata": {},
   "outputs": [],
   "source": [
    "#child class not inheritat the child"
   ]
  },
  {
   "cell_type": "code",
   "execution_count": 1,
   "id": "05ab51d9",
   "metadata": {},
   "outputs": [],
   "source": [
    "class Phone:\n",
    "    def __init__(self,price,brand,camera):\n",
    "        self.price=price\n",
    "        self.brand=brand\n",
    "        self.camera=camera\n",
    "class SmartPhone(Phone):\n",
    "    pass"
   ]
  },
  {
   "cell_type": "code",
   "execution_count": 2,
   "id": "84a5353f",
   "metadata": {},
   "outputs": [],
   "source": [
    "s=SmartPhone(14000,'Redmi',50)"
   ]
  },
  {
   "cell_type": "code",
   "execution_count": 5,
   "id": "d658fd6c",
   "metadata": {},
   "outputs": [
    {
     "data": {
      "text/plain": [
       "50"
      ]
     },
     "execution_count": 5,
     "metadata": {},
     "output_type": "execute_result"
    }
   ],
   "source": [
    "s.camera"
   ]
  },
  {
   "cell_type": "code",
   "execution_count": null,
   "id": "96bee998",
   "metadata": {},
   "outputs": [],
   "source": [
    "#ingerting the private members"
   ]
  },
  {
   "cell_type": "code",
   "execution_count": 8,
   "id": "ee9beaea",
   "metadata": {},
   "outputs": [],
   "source": [
    "class Phone:\n",
    "    def __init__(self,price,brand,camera):\n",
    "        self.price=price\n",
    "        self.__brand=brand\n",
    "        self.camera=camera\n",
    "        \n",
    "    def buy(self):\n",
    "        print('Buying a new Phone')\n",
    "    def return_phone(self):\n",
    "        print(' Returning a phone')\n",
    "class SmartPhone(Phone):\n",
    "    pass        "
   ]
  },
  {
   "cell_type": "code",
   "execution_count": 9,
   "id": "2b0a25fa",
   "metadata": {},
   "outputs": [],
   "source": [
    "s=SmartPhone(14000,'Redmi',50)"
   ]
  },
  {
   "cell_type": "code",
   "execution_count": 10,
   "id": "67a76ab2",
   "metadata": {},
   "outputs": [
    {
     "ename": "AttributeError",
     "evalue": "'SmartPhone' object has no attribute 'brand'",
     "output_type": "error",
     "traceback": [
      "\u001b[1;31m---------------------------------------------------------------------------\u001b[0m",
      "\u001b[1;31mAttributeError\u001b[0m                            Traceback (most recent call last)",
      "Cell \u001b[1;32mIn[10], line 1\u001b[0m\n\u001b[1;32m----> 1\u001b[0m \u001b[43ms\u001b[49m\u001b[38;5;241;43m.\u001b[39;49m\u001b[43mbrand\u001b[49m\n",
      "\u001b[1;31mAttributeError\u001b[0m: 'SmartPhone' object has no attribute 'brand'"
     ]
    }
   ],
   "source": [
    "s.brand"
   ]
  },
  {
   "cell_type": "code",
   "execution_count": 11,
   "id": "a78711a3",
   "metadata": {},
   "outputs": [],
   "source": [
    "class Phone:\n",
    "    def __init__(self,price,brand,camera):\n",
    "        self.price=price\n",
    "        self.__brand=brand\n",
    "        self.camera=camera\n",
    "        \n",
    "    def buy(self):\n",
    "        print('buying the phone')\n",
    "        \n",
    "    def return_phone(self):\n",
    "        print('returning the phone')\n",
    "        \n",
    "class SmartPhone(Phone):\n",
    "    def buy(self):\n",
    "        print('buying the smartphone')"
   ]
  },
  {
   "cell_type": "code",
   "execution_count": 12,
   "id": "b0732221",
   "metadata": {},
   "outputs": [],
   "source": [
    "s=SmartPhone(20000,'apple',50)"
   ]
  },
  {
   "cell_type": "code",
   "execution_count": 14,
   "id": "7f7b060d",
   "metadata": {},
   "outputs": [
    {
     "name": "stdout",
     "output_type": "stream",
     "text": [
      "buying the smartphone\n"
     ]
    }
   ],
   "source": [
    "s.buy()"
   ]
  },
  {
   "cell_type": "code",
   "execution_count": null,
   "id": "896e823d",
   "metadata": {},
   "outputs": [],
   "source": [
    "#in the above the is method overriding\n",
    "#basically the method overriding is polymorphism"
   ]
  },
  {
   "cell_type": "code",
   "execution_count": 20,
   "id": "d8150f96",
   "metadata": {},
   "outputs": [],
   "source": [
    "class  Parent:\n",
    "    def __init__(self,num):\n",
    "        self.num=num\n",
    "        \n",
    "    def get_num(self):\n",
    "        return self.__num\n",
    "    \n",
    "class Child(Parent):\n",
    "    def show(self):\n",
    "        print(\"This is the child class\")\n",
    "        "
   ]
  },
  {
   "cell_type": "code",
   "execution_count": 21,
   "id": "e157f2ce",
   "metadata": {},
   "outputs": [],
   "source": [
    "son=Child(100)"
   ]
  },
  {
   "cell_type": "code",
   "execution_count": 26,
   "id": "b5138f42",
   "metadata": {},
   "outputs": [
    {
     "ename": "AttributeError",
     "evalue": "'Child' object has no attribute '_Parent__num'",
     "output_type": "error",
     "traceback": [
      "\u001b[1;31m---------------------------------------------------------------------------\u001b[0m",
      "\u001b[1;31mAttributeError\u001b[0m                            Traceback (most recent call last)",
      "Cell \u001b[1;32mIn[26], line 1\u001b[0m\n\u001b[1;32m----> 1\u001b[0m \u001b[38;5;28mprint\u001b[39m(\u001b[43mson\u001b[49m\u001b[38;5;241;43m.\u001b[39;49m\u001b[43mget_num\u001b[49m\u001b[43m(\u001b[49m\u001b[43m)\u001b[49m)\n",
      "Cell \u001b[1;32mIn[20], line 6\u001b[0m, in \u001b[0;36mParent.get_num\u001b[1;34m(self)\u001b[0m\n\u001b[0;32m      5\u001b[0m \u001b[38;5;28;01mdef\u001b[39;00m \u001b[38;5;21mget_num\u001b[39m(\u001b[38;5;28mself\u001b[39m):\n\u001b[1;32m----> 6\u001b[0m     \u001b[38;5;28;01mreturn\u001b[39;00m \u001b[38;5;28;43mself\u001b[39;49m\u001b[38;5;241;43m.\u001b[39;49m\u001b[43m__num\u001b[49m\n",
      "\u001b[1;31mAttributeError\u001b[0m: 'Child' object has no attribute '_Parent__num'"
     ]
    }
   ],
   "source": [
    "print(son.get_num())"
   ]
  },
  {
   "cell_type": "code",
   "execution_count": 24,
   "id": "706c2da4",
   "metadata": {},
   "outputs": [
    {
     "name": "stdout",
     "output_type": "stream",
     "text": [
      "This is the child class\n"
     ]
    }
   ],
   "source": [
    "son.show()"
   ]
  },
  {
   "cell_type": "code",
   "execution_count": 38,
   "id": "b2fc70d2",
   "metadata": {},
   "outputs": [],
   "source": [
    "#ex3\n",
    "class Parent:\n",
    "    def __init__(self,num):\n",
    "        self.__num=num\n",
    "        \n",
    "    def get_num(self):\n",
    "        return self.__num\n",
    "    \n",
    "    \n",
    "class Child(Parent):\n",
    "    def __init__(self,val,num):\n",
    "        self.__val=val\n",
    "        \n",
    "    def get_val(self):\n",
    "        return self.__val\n",
    "        "
   ]
  },
  {
   "cell_type": "code",
   "execution_count": 39,
   "id": "6e6c904a",
   "metadata": {},
   "outputs": [],
   "source": [
    "son=Child(100,10)\n"
   ]
  },
  {
   "cell_type": "code",
   "execution_count": 40,
   "id": "c06ae316",
   "metadata": {},
   "outputs": [
    {
     "ename": "AttributeError",
     "evalue": "'Child' object has no attribute '_Parent__num'",
     "output_type": "error",
     "traceback": [
      "\u001b[1;31m---------------------------------------------------------------------------\u001b[0m",
      "\u001b[1;31mAttributeError\u001b[0m                            Traceback (most recent call last)",
      "Cell \u001b[1;32mIn[40], line 1\u001b[0m\n\u001b[1;32m----> 1\u001b[0m \u001b[38;5;28mprint\u001b[39m(\u001b[38;5;124m'\u001b[39m\u001b[38;5;124mParent num\u001b[39m\u001b[38;5;124m'\u001b[39m,\u001b[43mson\u001b[49m\u001b[38;5;241;43m.\u001b[39;49m\u001b[43mget_num\u001b[49m\u001b[43m(\u001b[49m\u001b[43m)\u001b[49m)\n",
      "Cell \u001b[1;32mIn[38], line 7\u001b[0m, in \u001b[0;36mParent.get_num\u001b[1;34m(self)\u001b[0m\n\u001b[0;32m      6\u001b[0m \u001b[38;5;28;01mdef\u001b[39;00m \u001b[38;5;21mget_num\u001b[39m(\u001b[38;5;28mself\u001b[39m):\n\u001b[1;32m----> 7\u001b[0m     \u001b[38;5;28;01mreturn\u001b[39;00m \u001b[38;5;28;43mself\u001b[39;49m\u001b[38;5;241;43m.\u001b[39;49m\u001b[43m__num\u001b[49m\n",
      "\u001b[1;31mAttributeError\u001b[0m: 'Child' object has no attribute '_Parent__num'"
     ]
    }
   ],
   "source": [
    "print('Parent num',son.get_num())"
   ]
  },
  {
   "cell_type": "code",
   "execution_count": 41,
   "id": "63955592",
   "metadata": {},
   "outputs": [
    {
     "data": {
      "text/plain": [
       "100"
      ]
     },
     "execution_count": 41,
     "metadata": {},
     "output_type": "execute_result"
    }
   ],
   "source": [
    "son.get_val()"
   ]
  },
  {
   "cell_type": "code",
   "execution_count": 50,
   "id": "8750cf70",
   "metadata": {},
   "outputs": [],
   "source": [
    "#ex 4\n",
    "class A:\n",
    "    def __init__(self):\n",
    "        self.var1=100\n",
    "        \n",
    "    def display1(self,var1):\n",
    "        print('Class A',self.var1)\n",
    "        \n",
    "class B(A):\n",
    "    def display2(self,var1):\n",
    "        print('class B',self.var1)\n",
    "\n"
   ]
  },
  {
   "cell_type": "code",
   "execution_count": 51,
   "id": "000e9481",
   "metadata": {},
   "outputs": [],
   "source": [
    "obj=B()"
   ]
  },
  {
   "cell_type": "code",
   "execution_count": 52,
   "id": "7ffca9a9",
   "metadata": {},
   "outputs": [
    {
     "name": "stdout",
     "output_type": "stream",
     "text": [
      "Class A 100\n"
     ]
    }
   ],
   "source": [
    "obj.display1(200)"
   ]
  },
  {
   "cell_type": "code",
   "execution_count": 56,
   "id": "86cbae3d",
   "metadata": {},
   "outputs": [],
   "source": [
    "#ex5 :example of super\n",
    "class Phone:\n",
    "    def __init__(self,price,brand,camera):\n",
    "        self.__price=price\n",
    "        self.brand=brand\n",
    "        self.camera=camera\n",
    "        \n",
    "    def buy(self):\n",
    "        print('buying the phone')\n",
    "        \n",
    "class SmartPhone(Phone):\n",
    "    def buy(self):\n",
    "        print('Buyng a SamrtPhone')\n",
    "        super().buy()\n",
    "    "
   ]
  },
  {
   "cell_type": "code",
   "execution_count": 58,
   "id": "46ae154b",
   "metadata": {},
   "outputs": [],
   "source": [
    "s=SmartPhone(20000,'apple',50)"
   ]
  },
  {
   "cell_type": "code",
   "execution_count": 59,
   "id": "7a85f255",
   "metadata": {},
   "outputs": [
    {
     "name": "stdout",
     "output_type": "stream",
     "text": [
      "Buyng a SamrtPhone\n",
      "buying the phone\n"
     ]
    }
   ],
   "source": [
    "s.buy()"
   ]
  },
  {
   "cell_type": "markdown",
   "id": "2327e8cd",
   "metadata": {},
   "source": [
    "note:-when we write the super then we call the parent counsructor "
   ]
  },
  {
   "cell_type": "code",
   "execution_count": 61,
   "id": "3d414cb2",
   "metadata": {},
   "outputs": [],
   "source": [
    "# ex6 example of super\n",
    "class Phone:\n",
    "    def __init__(self,price,brand,camera):\n",
    "        print('inside the phone constructor')\n",
    "        self.__price=price\n",
    "        self.brand=brand\n",
    "        self.camera=camera\n",
    "        \n",
    "class SmartPhone(Phone):\n",
    "    def __init__(self,price,brand,camera,os,ram):\n",
    "        super().__init__(price,brand,camera)\n",
    "        self.os=os\n",
    "        self.ram=ram\n",
    "        print('inside smartphone consructor')\n",
    "            "
   ]
  },
  {
   "cell_type": "code",
   "execution_count": 62,
   "id": "2677bc9d",
   "metadata": {},
   "outputs": [
    {
     "name": "stdout",
     "output_type": "stream",
     "text": [
      "inside the phone constructor\n",
      "inside smartphone consructor\n"
     ]
    }
   ],
   "source": [
    "s=SmartPhone(20000,'apple',50,'Android',8)"
   ]
  },
  {
   "cell_type": "code",
   "execution_count": 68,
   "id": "b7556a17",
   "metadata": {},
   "outputs": [
    {
     "data": {
      "text/plain": [
       "'Android'"
      ]
     },
     "execution_count": 68,
     "metadata": {},
     "output_type": "execute_result"
    }
   ],
   "source": [
    "s.os"
   ]
  },
  {
   "cell_type": "code",
   "execution_count": 70,
   "id": "ec8cec2b",
   "metadata": {},
   "outputs": [],
   "source": [
    "#EX7:- example on super\n",
    "class Parent:\n",
    "    def __init__(self,num):\n",
    "        self.__num=num\n",
    "        \n",
    "    def get_num(self):\n",
    "        return self.__num\n",
    "    \n",
    "    \n",
    "class Child(Parent):\n",
    "    def __init__(self,val,num):\n",
    "        super().__init__(num)\n",
    "        self.__val=val\n",
    "        \n",
    "    def get_val(self):\n",
    "        return self.__val"
   ]
  },
  {
   "cell_type": "markdown",
   "id": "da6f7493",
   "metadata": {},
   "source": [
    "note=super can be used 1st in code"
   ]
  },
  {
   "cell_type": "code",
   "execution_count": 72,
   "id": "37a44334",
   "metadata": {},
   "outputs": [],
   "source": [
    "son=Child(100,200)"
   ]
  },
  {
   "cell_type": "code",
   "execution_count": 73,
   "id": "f8079a8f",
   "metadata": {},
   "outputs": [
    {
     "data": {
      "text/plain": [
       "200"
      ]
     },
     "execution_count": 73,
     "metadata": {},
     "output_type": "execute_result"
    }
   ],
   "source": [
    "son.get_num()"
   ]
  },
  {
   "cell_type": "code",
   "execution_count": 74,
   "id": "972b0d10",
   "metadata": {},
   "outputs": [
    {
     "data": {
      "text/plain": [
       "100"
      ]
     },
     "execution_count": 74,
     "metadata": {},
     "output_type": "execute_result"
    }
   ],
   "source": [
    "son.get_val()"
   ]
  },
  {
   "cell_type": "code",
   "execution_count": 75,
   "id": "78cd31a8",
   "metadata": {},
   "outputs": [],
   "source": [
    "class Parent:\n",
    "    def __init__(self):\n",
    "        self.num=100\n",
    "        \n",
    "class Child(Parent):\n",
    "    def __init__(self):\n",
    "        super().__init__()\n",
    "        self.var=200\n",
    "        \n",
    "    def show(self):\n",
    "        print(self.num)\n",
    "        print(self.var)"
   ]
  },
  {
   "cell_type": "code",
   "execution_count": 76,
   "id": "1cc6daa8",
   "metadata": {},
   "outputs": [],
   "source": [
    "son=Child()"
   ]
  },
  {
   "cell_type": "code",
   "execution_count": 77,
   "id": "0c3c5f63",
   "metadata": {},
   "outputs": [
    {
     "name": "stdout",
     "output_type": "stream",
     "text": [
      "100\n",
      "200\n"
     ]
    }
   ],
   "source": [
    "son.show()"
   ]
  },
  {
   "cell_type": "markdown",
   "id": "a98928cf",
   "metadata": {},
   "source": [
    "#inside the child using the self we can get the attribute of the parent class\n",
    "because the self is the object"
   ]
  },
  {
   "cell_type": "code",
   "execution_count": 97,
   "id": "b50a0716",
   "metadata": {},
   "outputs": [],
   "source": [
    "class Parent:\n",
    "    def __init__(self):\n",
    "        self.__num=100\n",
    "    def show(self):\n",
    "        print('Parent',self.__num)\n",
    "class Child(Parent):\n",
    "    def __init__(self):\n",
    "        super().__init__()\n",
    "        self.__var=10\n",
    "        \n",
    "    def show(self):\n",
    "        print('Child',self.__var)"
   ]
  },
  {
   "cell_type": "code",
   "execution_count": 87,
   "id": "9056de3c",
   "metadata": {},
   "outputs": [],
   "source": [
    "dad=Parent()\n"
   ]
  },
  {
   "cell_type": "code",
   "execution_count": 84,
   "id": "84e2c366",
   "metadata": {},
   "outputs": [
    {
     "name": "stdout",
     "output_type": "stream",
     "text": [
      "Parent 100\n"
     ]
    }
   ],
   "source": [
    "dad.show()"
   ]
  },
  {
   "cell_type": "code",
   "execution_count": 98,
   "id": "7ed85f16",
   "metadata": {},
   "outputs": [
    {
     "name": "stdout",
     "output_type": "stream",
     "text": [
      "Child 10\n"
     ]
    }
   ],
   "source": [
    "son=Child()\n",
    "son.show()"
   ]
  },
  {
   "cell_type": "markdown",
   "id": "f3c9783b",
   "metadata": {},
   "source": [
    "#types of inheritance\n",
    "1.single level(parent to child)\n",
    "2.multi level(grand father to father and father to child)\n",
    "3.hirarchacal(one parent and multiple child)\n",
    "4.multiple inheritance(2 parent one child)"
   ]
  },
  {
   "cell_type": "code",
   "execution_count": 104,
   "id": "5dad9127",
   "metadata": {},
   "outputs": [],
   "source": [
    "#example of multileve\n",
    "class Product:\n",
    "    def review(self):\n",
    "        print('Product Customer review')\n",
    "        \n",
    "class Phone(Product):\n",
    "    def __init__(self,price,brand,camera):\n",
    "        print('inside the phone counstroctor')\n",
    "        self.price=price\n",
    "        self.brand=brand\n",
    "        self.camera=camera\n",
    "        \n",
    "    def  buy(self):\n",
    "        print('Buying the Phone')\n",
    "        \n",
    "class SmartPhone(Phone):\n",
    "    pass\n",
    "        "
   ]
  },
  {
   "cell_type": "code",
   "execution_count": 105,
   "id": "b7b40d47",
   "metadata": {},
   "outputs": [
    {
     "name": "stdout",
     "output_type": "stream",
     "text": [
      "inside the phone counstroctor\n",
      "inside the phone counstroctor\n"
     ]
    }
   ],
   "source": [
    "s=SmartPhone(2000,'apple',45)\n",
    "p=Phone(12222,'kewis',50)"
   ]
  },
  {
   "cell_type": "code",
   "execution_count": 110,
   "id": "3c8f52ce",
   "metadata": {},
   "outputs": [
    {
     "name": "stdout",
     "output_type": "stream",
     "text": [
      "Product Customer review\n"
     ]
    }
   ],
   "source": [
    "p.review()"
   ]
  },
  {
   "cell_type": "code",
   "execution_count": null,
   "id": "73162604",
   "metadata": {},
   "outputs": [],
   "source": [
    "#example of the hierachical inheritance"
   ]
  },
  {
   "cell_type": "code",
   "execution_count": 111,
   "id": "bf65fc1c",
   "metadata": {},
   "outputs": [],
   "source": [
    "class Phone(Product):\n",
    "    def __init__(self,price,brand,camera):\n",
    "        print('inside the phone counstroctor')\n",
    "        self.price=price\n",
    "        self.brand=brand\n",
    "        self.camera=camera\n",
    "class SmartPhone(Phone):\n",
    "    pass\n",
    "\n",
    "class FeaturePhone(Phone):\n",
    "    pass"
   ]
  },
  {
   "cell_type": "code",
   "execution_count": null,
   "id": "8dff8b4b",
   "metadata": {},
   "outputs": [],
   "source": [
    "#example of multiple inheritance"
   ]
  },
  {
   "cell_type": "code",
   "execution_count": 114,
   "id": "9c82bad9",
   "metadata": {},
   "outputs": [],
   "source": [
    "class Phone():\n",
    "    def __init__(self,price,brand,camera):\n",
    "        print('inside the phone counstroctor')\n",
    "        self.price=price\n",
    "        self.brand=brand\n",
    "        self.camera=camera\n",
    "        \n",
    "    def buy(self):\n",
    "        print('buying the phone')\n",
    "class Product:\n",
    "    def review(self):\n",
    "        print('Customrr review')\n",
    "        \n",
    "class SmartPhone(Phone,Product):\n",
    "    pass"
   ]
  },
  {
   "cell_type": "code",
   "execution_count": 115,
   "id": "7ccede2e",
   "metadata": {},
   "outputs": [
    {
     "name": "stdout",
     "output_type": "stream",
     "text": [
      "inside the phone counstroctor\n"
     ]
    }
   ],
   "source": [
    "s=SmartPhone(2000,'apple',45)"
   ]
  },
  {
   "cell_type": "code",
   "execution_count": 116,
   "id": "83d805d2",
   "metadata": {},
   "outputs": [
    {
     "name": "stdout",
     "output_type": "stream",
     "text": [
      "buying the phone\n",
      "None\n",
      "Customrr review\n",
      "None\n"
     ]
    }
   ],
   "source": [
    "print(s.buy())\n",
    "print(s.review())"
   ]
  },
  {
   "cell_type": "code",
   "execution_count": null,
   "id": "77490ad6",
   "metadata": {},
   "outputs": [],
   "source": [
    "#example of multi level inheritance "
   ]
  },
  {
   "cell_type": "code",
   "execution_count": 117,
   "id": "577b483e",
   "metadata": {},
   "outputs": [],
   "source": [
    "class Phone():\n",
    "    def __init__(self,price,brand,camera):\n",
    "        print('inside the phone counstroctor')\n",
    "        self.price=price\n",
    "        self.brand=brand\n",
    "        self.camera=camera\n",
    "        \n",
    "    def buy(self):\n",
    "        print('buying the phone')\n",
    "        \n",
    "class Product:\n",
    "    def buy(self):\n",
    "        print('Product by method')\n",
    "        \n",
    "class SmartPhone(Phone,Product):\n",
    "    pass\n",
    "        \n"
   ]
  },
  {
   "cell_type": "code",
   "execution_count": 118,
   "id": "33a96ecf",
   "metadata": {},
   "outputs": [
    {
     "name": "stdout",
     "output_type": "stream",
     "text": [
      "inside the phone counstroctor\n"
     ]
    }
   ],
   "source": [
    "s=SmartPhone(2000,'apple',45)"
   ]
  },
  {
   "cell_type": "markdown",
   "id": "313786f5",
   "metadata": {},
   "source": [
    "#here we have two 'buy' methods one is in phone and one is in product \n",
    "in child class when we call buy then ot exicute that method which class is written inthe fristin above code the Phone Parent class is 1st in the child class SmartPhone"
   ]
  },
  {
   "cell_type": "code",
   "execution_count": 119,
   "id": "5c9abd4e",
   "metadata": {},
   "outputs": [
    {
     "name": "stdout",
     "output_type": "stream",
     "text": [
      "buying the phone\n"
     ]
    }
   ],
   "source": [
    "s.buy()"
   ]
  },
  {
   "cell_type": "markdown",
   "id": "a4cf8cd4",
   "metadata": {},
   "source": [
    "the above method is called the method resolved oreder"
   ]
  },
  {
   "cell_type": "code",
   "execution_count": 120,
   "id": "70844dbd",
   "metadata": {},
   "outputs": [],
   "source": [
    "#ex1\n",
    "class A:\n",
    "    def m1(self):\n",
    "        return 20\n",
    "class B(A):\n",
    "    def m1(self):\n",
    "        return 30\n",
    "    def m2(self):\n",
    "        return 40\n",
    "class C(B):\n",
    "    def m2(self):\n",
    "        return 20"
   ]
  },
  {
   "cell_type": "code",
   "execution_count": 123,
   "id": "588091d8",
   "metadata": {},
   "outputs": [
    {
     "name": "stdout",
     "output_type": "stream",
     "text": [
      "70\n"
     ]
    }
   ],
   "source": [
    "obj1=A()\n",
    "obj2=B()\n",
    "obj3=C()\n",
    "print(obj1.m1()+obj3.m1()+obj3.m2())"
   ]
  },
  {
   "cell_type": "code",
   "execution_count": 1,
   "id": "256c37f1",
   "metadata": {},
   "outputs": [],
   "source": [
    "#EX2\n",
    "class A:\n",
    "    def m1(self):\n",
    "        return 20\n",
    "class B(A):\n",
    "    def m1(self):\n",
    "        val=super().m1()+30\n",
    "        return val\n",
    "  \n",
    "class C(B):\n",
    "    def m1(self):\n",
    "        val=self.m1()+20\n",
    "        return val"
   ]
  },
  {
   "cell_type": "code",
   "execution_count": null,
   "id": "2047bc3a",
   "metadata": {},
   "outputs": [],
   "source": [
    "obj=C()\n",
    "print(obj.m1())"
   ]
  },
  {
   "cell_type": "code",
   "execution_count": null,
   "id": "d6bba7de",
   "metadata": {},
   "outputs": [],
   "source": [
    "#the above code give the recurssion means repeationg the same output"
   ]
  },
  {
   "cell_type": "markdown",
   "id": "bf3751d5",
   "metadata": {},
   "source": [
    "Polymorphism:-\n",
    "1.method overriding\n",
    "2.method overlodaing\n",
    "3.operator overloding"
   ]
  },
  {
   "cell_type": "markdown",
   "id": "40551ec4",
   "metadata": {},
   "source": [
    "method overloading is the,running the different funtion with the same name of the methods"
   ]
  },
  {
   "cell_type": "code",
   "execution_count": 6,
   "id": "948cb66b",
   "metadata": {},
   "outputs": [],
   "source": [
    "#method overloading:it act different behavier\n",
    "class Geometry:\n",
    "    def area(sef,a,b=0):\n",
    "        if b==0:\n",
    "            print('Circle',3.14*a*a)\n",
    "        else:\n",
    "            print('rect',a*b)\n",
    "       "
   ]
  },
  {
   "cell_type": "code",
   "execution_count": 7,
   "id": "4870d9bd",
   "metadata": {},
   "outputs": [
    {
     "name": "stdout",
     "output_type": "stream",
     "text": [
      "Circle 50.24\n"
     ]
    }
   ],
   "source": [
    "obj=Geometry()\n",
    "obj.area(4)"
   ]
  },
  {
   "cell_type": "markdown",
   "id": "edace184",
   "metadata": {},
   "source": [
    "Technically speaking method overloding is run in the java not in python "
   ]
  },
  {
   "cell_type": "code",
   "execution_count": 8,
   "id": "904b6efb",
   "metadata": {},
   "outputs": [
    {
     "name": "stdout",
     "output_type": "stream",
     "text": [
      "rect 20\n"
     ]
    }
   ],
   "source": [
    "obj.area(4,5)"
   ]
  },
  {
   "cell_type": "code",
   "execution_count": null,
   "id": "99583b4a",
   "metadata": {},
   "outputs": [],
   "source": [
    "#3.operator ovrlofing"
   ]
  }
 ],
 "metadata": {
  "kernelspec": {
   "display_name": "Python 3 (ipykernel)",
   "language": "python",
   "name": "python3"
  },
  "language_info": {
   "codemirror_mode": {
    "name": "ipython",
    "version": 3
   },
   "file_extension": ".py",
   "mimetype": "text/x-python",
   "name": "python",
   "nbconvert_exporter": "python",
   "pygments_lexer": "ipython3",
   "version": "3.10.9"
  }
 },
 "nbformat": 4,
 "nbformat_minor": 5
}
