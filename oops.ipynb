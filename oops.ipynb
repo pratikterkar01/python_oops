{
 "cells": [
  {
   "cell_type": "code",
   "execution_count": 75,
   "id": "38c5262b",
   "metadata": {},
   "outputs": [],
   "source": [
    "class Atm:\n",
    "   \n",
    "    def __init__(self):\n",
    "       self.pin=\"\"\n",
    "       self.balance=0\n",
    "       self.menu()\n",
    "        \n",
    "    def get_pin(self):\n",
    "        return self.pin\n",
    "    \n",
    "    def set_pin(self,new_pin):\n",
    "        if type(new_pin)==int :\n",
    "            self.pin=new_pin\n",
    "            print('pin changed')\n",
    "        else:\n",
    "            print('invalid')\n",
    "    \n",
    "    def menu(self):\n",
    "        user_input=input('''\n",
    "        Hello,how would you like to processed ?\n",
    "        1.Enter 1 to create pin\n",
    "        2.Enter 2 to deposite \n",
    "        3.Enter 3 to withdraw\n",
    "        4.Enter 4 to check balance\n",
    "        5.Enter 5 to exit\n",
    "        ''')\n",
    "        \n",
    "        if user_input=='1':\n",
    "            self.create_pin()\n",
    "        elif user_input=='2':\n",
    "            self.deposite()\n",
    "        elif user_input=='3':\n",
    "            self.withdraw\n",
    "        elif user_input=='4':\n",
    "            self.check_balance()\n",
    "        else:\n",
    "            print('Exit')\n",
    "            \n",
    "    def create_pin(self):\n",
    "        self.__pin=int(input('enter your pin'))\n",
    "        print('pin set sucessfully')\n",
    "        \n",
    "    def deposite(self):\n",
    "        temp=int(input('enter your pin'))\n",
    "        if temp==self.pin:\n",
    "            amount=int(input('Enter your amout'))\n",
    "            self.balance=self.__balance+amount\n",
    "        else:\n",
    "            print('invalid pin')\n",
    "            \n",
    "    def withdraw(self):\n",
    "        temp=int(input('enter your pin'))\n",
    "        if temp==self.__pin:\n",
    "            amount=int(input('Enter amount'))\n",
    "            if amount<self.balance:\n",
    "                self.balance=self.balance-amount\n",
    "                print('Operation Sucessful')\n",
    "            else:\n",
    "                print('insufficient funda')\n",
    "        else:\n",
    "            print('invalid pin')\n",
    "    def check_balance(self):\n",
    "        temp=int(input('enter your pin'))\n",
    "        if temp==self.pin:\n",
    "            print(self.balance)\n",
    "        else:\n",
    "            print('invalid pin')\n",
    "    \n",
    "        \n",
    "        "
   ]
  },
  {
   "cell_type": "code",
   "execution_count": 70,
   "id": "f4b1521a",
   "metadata": {},
   "outputs": [
    {
     "name": "stdout",
     "output_type": "stream",
     "text": [
      "\n",
      "        Hello,how would you like to processed ?\n",
      "        1.Enter 1 to create pin\n",
      "        2.Enter 2 to deposite \n",
      "        3.Enter 3 to withdraw\n",
      "        4.Enter 4 to check balance\n",
      "        5.Enter 5 to exit\n",
      "        1\n",
      "enter your pin1601\n",
      "pin set sucessfully\n"
     ]
    }
   ],
   "source": [
    "sbi=Atm()"
   ]
  },
  {
   "cell_type": "code",
   "execution_count": 73,
   "id": "192e0a09",
   "metadata": {},
   "outputs": [
    {
     "name": "stdout",
     "output_type": "stream",
     "text": [
      "pin changed\n"
     ]
    }
   ],
   "source": [
    "sbi.set_pin(160)"
   ]
  },
  {
   "cell_type": "code",
   "execution_count": 74,
   "id": "2fc98bf3",
   "metadata": {},
   "outputs": [
    {
     "data": {
      "text/plain": [
       "160"
      ]
     },
     "execution_count": 74,
     "metadata": {},
     "output_type": "execute_result"
    }
   ],
   "source": [
    "sbi.get_pin()"
   ]
  },
  {
   "cell_type": "code",
   "execution_count": 16,
   "id": "1924738d",
   "metadata": {},
   "outputs": [
    {
     "name": "stdout",
     "output_type": "stream",
     "text": [
      "enter your pin1601\n",
      "5000\n"
     ]
    }
   ],
   "source": [
    "sbi.check_balance()"
   ]
  },
  {
   "cell_type": "code",
   "execution_count": 17,
   "id": "5d433952",
   "metadata": {},
   "outputs": [
    {
     "name": "stdout",
     "output_type": "stream",
     "text": [
      "\n",
      "        Hello,how would you like to processed ?\n",
      "        1.Enter 1 to create pin\n",
      "        2.Enter 2 to deposite \n",
      "        3.Enter 3 to withdraw\n",
      "        4.Enter 4 to check balance\n",
      "        5.Enter 5 to exit\n",
      "        1\n",
      "enter your pin4515\n",
      "pin set sucessfully\n"
     ]
    }
   ],
   "source": [
    "hdfc=Atm()"
   ]
  },
  {
   "cell_type": "code",
   "execution_count": 18,
   "id": "ac170c55",
   "metadata": {},
   "outputs": [
    {
     "name": "stdout",
     "output_type": "stream",
     "text": [
      "enter your pin4515\n",
      "Enter your amout10000\n"
     ]
    }
   ],
   "source": [
    "hdfc.deposite()"
   ]
  },
  {
   "cell_type": "code",
   "execution_count": 19,
   "id": "2845eda3",
   "metadata": {},
   "outputs": [
    {
     "name": "stdout",
     "output_type": "stream",
     "text": [
      "enter your pin4515\n",
      "10000\n"
     ]
    }
   ],
   "source": [
    "hdfc.check_balance()"
   ]
  },
  {
   "cell_type": "markdown",
   "id": "c4bc1dc0",
   "metadata": {},
   "source": [
    "#/magic/dunder method:-\n",
    "it is the pre defined methods in the python denoted by __name__ like this\n",
    "one e,g is __init__\n",
    "2.Counstructor is the magic method which calls when object is created\n",
    "3.when to use?\n",
    ":-it is used when we need to exicute when we call the object "
   ]
  },
  {
   "cell_type": "code",
   "execution_count": null,
   "id": "c72aa9f3",
   "metadata": {},
   "outputs": [],
   "source": [
    "#/magic/dunder method:- it is the pre defined methods in the python denoted by name like this one \n",
    "e,g is init 2.Counstructor is the magic method which calls when object is created 3.when to use? :-it is used when\n",
    "    we need to exicute when we call the object\n"
   ]
  },
  {
   "cell_type": "code",
   "execution_count": null,
   "id": "bcc3b4dd",
   "metadata": {},
   "outputs": [],
   "source": [
    "#self:-self is used to access the methods in the class by the self"
   ]
  },
  {
   "cell_type": "code",
   "execution_count": null,
   "id": "da51a540",
   "metadata": {},
   "outputs": [],
   "source": [
    "#magic method __str__:- when the we writen object in the print then this funtion get exicuted"
   ]
  },
  {
   "cell_type": "code",
   "execution_count": 46,
   "id": "28ad1a5d",
   "metadata": {},
   "outputs": [],
   "source": [
    "class fraction:\n",
    "    def __init__(self,n,d):\n",
    "        self.num=n\n",
    "        self.den=d\n",
    "    def __str__(self):\n",
    "        return f\"{self.num}/{self.den}\"\n",
    "    \n",
    "    #after getting error we write the below code \n",
    "    def __add__(self,other):\n",
    "        temp_num=self.num*other.den+self.den*other.num\n",
    "        temp_den=self.den*other.den\n",
    "        return f'{temp_num}/{temp_den}'\n",
    "    #writing the below code after second error\n",
    "    def __sub__(self,other):\n",
    "        temp_num=self.num*other.den-self.den*other.num\n",
    "        temp_den=self.den*other.den\n",
    "        return f'{temp_num}/{temp_den}'\n",
    "    def __mul__(self,other):\n",
    "        temp_num=self.num*other.num\n",
    "        temp_den=self.den*other.den\n",
    "        return f'{temp_num}/{temp_den}'\n",
    "    def __truediv__(self,other):\n",
    "        temp_num=self.num*other.den\n",
    "        temp_den=self.den*other.num\n",
    "        return f'{temp_num}/{temp_den}'\n",
    "        "
   ]
  },
  {
   "cell_type": "code",
   "execution_count": 47,
   "id": "207d49ec",
   "metadata": {},
   "outputs": [],
   "source": [
    "x=fraction(1,2)"
   ]
  },
  {
   "cell_type": "code",
   "execution_count": 12,
   "id": "3e673b80",
   "metadata": {},
   "outputs": [
    {
     "name": "stdout",
     "output_type": "stream",
     "text": [
      "1/2\n"
     ]
    }
   ],
   "source": [
    "print(x)"
   ]
  },
  {
   "cell_type": "code",
   "execution_count": 48,
   "id": "a1e847bf",
   "metadata": {},
   "outputs": [],
   "source": [
    "y=fraction(4,5)"
   ]
  },
  {
   "cell_type": "code",
   "execution_count": 14,
   "id": "766082e0",
   "metadata": {},
   "outputs": [
    {
     "name": "stdout",
     "output_type": "stream",
     "text": [
      "4/5\n"
     ]
    }
   ],
   "source": [
    "print(y)"
   ]
  },
  {
   "cell_type": "code",
   "execution_count": 21,
   "id": "33e742f1",
   "metadata": {},
   "outputs": [
    {
     "ename": "TypeError",
     "evalue": "unsupported operand type(s) for +: 'fraction' and 'fraction'",
     "output_type": "error",
     "traceback": [
      "\u001b[1;31m---------------------------------------------------------------------------\u001b[0m",
      "\u001b[1;31mTypeError\u001b[0m                                 Traceback (most recent call last)",
      "Cell \u001b[1;32mIn[21], line 1\u001b[0m\n\u001b[1;32m----> 1\u001b[0m \u001b[38;5;28mprint\u001b[39m(\u001b[43mx\u001b[49m\u001b[38;5;241;43m+\u001b[39;49m\u001b[43my\u001b[49m)\n",
      "\u001b[1;31mTypeError\u001b[0m: unsupported operand type(s) for +: 'fraction' and 'fraction'"
     ]
    }
   ],
   "source": [
    "print(x+y)"
   ]
  },
  {
   "cell_type": "code",
   "execution_count": null,
   "id": "20b82fcf",
   "metadata": {},
   "outputs": [],
   "source": [
    "#to overcome the above problem we use __add__ to define the addition\n",
    "#this will exicute when we use + sign "
   ]
  },
  {
   "cell_type": "code",
   "execution_count": 39,
   "id": "7cd1ff76",
   "metadata": {},
   "outputs": [
    {
     "name": "stdout",
     "output_type": "stream",
     "text": [
      "13/10\n"
     ]
    }
   ],
   "source": [
    "print(x+y)"
   ]
  },
  {
   "cell_type": "code",
   "execution_count": 40,
   "id": "2fb8f8b3",
   "metadata": {},
   "outputs": [
    {
     "name": "stdout",
     "output_type": "stream",
     "text": [
      "-3/10\n"
     ]
    }
   ],
   "source": [
    "print(x-y)"
   ]
  },
  {
   "cell_type": "code",
   "execution_count": null,
   "id": "4f4e5a4e",
   "metadata": {},
   "outputs": [],
   "source": [
    "#to overcome above problem we use __sub__"
   ]
  },
  {
   "cell_type": "code",
   "execution_count": null,
   "id": "f780afff",
   "metadata": {},
   "outputs": [],
   "source": [
    "#for multiplication __mul__  magic funtion is available\n"
   ]
  },
  {
   "cell_type": "code",
   "execution_count": 45,
   "id": "16de93cd",
   "metadata": {},
   "outputs": [
    {
     "name": "stdout",
     "output_type": "stream",
     "text": [
      "4/10\n"
     ]
    }
   ],
   "source": [
    "print(x*y)"
   ]
  },
  {
   "cell_type": "code",
   "execution_count": null,
   "id": "173d4b0a",
   "metadata": {},
   "outputs": [],
   "source": [
    "#for division we have __true__ div "
   ]
  },
  {
   "cell_type": "code",
   "execution_count": 49,
   "id": "effe6246",
   "metadata": {},
   "outputs": [
    {
     "name": "stdout",
     "output_type": "stream",
     "text": [
      "5/8\n"
     ]
    }
   ],
   "source": [
    "print(x/y)"
   ]
  },
  {
   "cell_type": "code",
   "execution_count": 50,
   "id": "ccc5cd05",
   "metadata": {},
   "outputs": [
    {
     "name": "stdout",
     "output_type": "stream",
     "text": [
      "13/10\n",
      "-3/10\n",
      "4/10\n",
      "5/8\n"
     ]
    }
   ],
   "source": [
    "print(x+y)\n",
    "print(x-y)\n",
    "print(x*y)\n",
    "print(x/y)"
   ]
  },
  {
   "cell_type": "code",
   "execution_count": null,
   "id": "cc7d9cb9",
   "metadata": {},
   "outputs": [],
   "source": [
    "#Encapsulation:-"
   ]
  },
  {
   "cell_type": "markdown",
   "id": "7bf0e8f7",
   "metadata": {},
   "source": [
    "#need for encapsulation\n",
    "1.private attribute\n",
    "2.getter and setter methods\n",
    "3.class diagram\n",
    "4.class diagrams(- for private variable and + for public variable\n",
    ")\n"
   ]
  },
  {
   "cell_type": "code",
   "execution_count": null,
   "id": "b8560e76",
   "metadata": {},
   "outputs": [],
   "source": [
    "#instance variable:-variable inside the constructor"
   ]
  },
  {
   "cell_type": "code",
   "execution_count": 53,
   "id": "0a8beb39",
   "metadata": {},
   "outputs": [
    {
     "name": "stdout",
     "output_type": "stream",
     "text": [
      "\n",
      "        Hello,how would you like to processed ?\n",
      "        1.Enter 1 to create pin\n",
      "        2.Enter 2 to deposite \n",
      "        3.Enter 3 to withdraw\n",
      "        4.Enter 4 to check balance\n",
      "        5.Enter 5 to exit\n",
      "        1\n",
      "enter your pin1601\n",
      "pin set sucessfully\n"
     ]
    }
   ],
   "source": [
    "sbi=Atm()"
   ]
  },
  {
   "cell_type": "code",
   "execution_count": 54,
   "id": "14ab8ee8",
   "metadata": {},
   "outputs": [
    {
     "data": {
      "text/plain": [
       "0"
      ]
     },
     "execution_count": 54,
     "metadata": {},
     "output_type": "execute_result"
    }
   ],
   "source": [
    "sbi.balance"
   ]
  },
  {
   "cell_type": "code",
   "execution_count": null,
   "id": "033dfaef",
   "metadata": {},
   "outputs": [],
   "source": [
    "#in the Atm class pin and id is the instance variable \n",
    "#we need to privatise ot so that it can not be acced by any user outside the class\n",
    "#so we need to put the __ before the instance vaiable\n",
    "#if we want to hide method then also we do"
   ]
  },
  {
   "cell_type": "code",
   "execution_count": null,
   "id": "c7dafd5a",
   "metadata": {},
   "outputs": [],
   "source": [
    "class Atm:\n",
    "    #to privatise these instance varible so that can not accesed outside the class\n",
    "    def __init__(self):\n",
    "       self.__pin=\"\"\n",
    "       self.__balance=0\n",
    "       self.menu()\n",
    "        \n",
    "    def get_pin(self):\n",
    "        return self.__pin\n",
    "    \n",
    "    def set_pin(self,new_pin):\n",
    "        if type(new_pin)==int :\n",
    "            self.__pin=new_pin\n",
    "            print('pin changed')\n",
    "        else:\n",
    "            print('invalid')\n",
    "    \n",
    "    def menu(self):\n",
    "        user_input=input('''\n",
    "        Hello,how would you like to processed ?\n",
    "        1.Enter 1 to create pin\n",
    "        2.Enter 2 to deposite \n",
    "        3.Enter 3 to withdraw\n",
    "        4.Enter 4 to check balance\n",
    "        5.Enter 5 to exit\n",
    "        ''')\n",
    "        \n",
    "        if user_input=='1':\n",
    "            self.create_pin()\n",
    "        elif user_input=='2':\n",
    "            self.deposite()\n",
    "        elif user_input=='3':\n",
    "            self.withdraw\n",
    "        elif user_input=='4':\n",
    "            self.check_balance()\n",
    "        else:\n",
    "            print('Exit')\n",
    "            \n",
    "    def create_pin(self):\n",
    "        self.__pin=int(input('enter your pin'))\n",
    "        print('pin set sucessfully')\n",
    "        \n",
    "    def deposite(self):\n",
    "        temp=int(input('enter your pin'))\n",
    "        if temp==self.__pin:\n",
    "            amount=int(input('Enter your amout'))\n",
    "            self.__balance=self.__balance+amount\n",
    "        else:\n",
    "            print('invalid pin')\n",
    "            \n",
    "    def withdraw(self):\n",
    "        temp=int(input('enter your pin'))\n",
    "        if temp==self.__pin:\n",
    "            amount=int(input('Enter amount'))\n",
    "            if amount<self.__balance:\n",
    "                self.__balance=self.__balance-amount\n",
    "                print('Operation Sucessful')\n",
    "            else:\n",
    "                print('insufficient funda')\n",
    "        else:\n",
    "            print('invalid pin')\n",
    "    def check_balance(self):\n",
    "        temp=int(input('enter your pin'))\n",
    "        if temp==self.__pin:\n",
    "            print(self.__balance)\n",
    "        else:\n",
    "            print('invalid pin')\n",
    "    \n",
    "    "
   ]
  },
  {
   "cell_type": "code",
   "execution_count": null,
   "id": "159e1ab2",
   "metadata": {},
   "outputs": [],
   "source": [
    "#reference variable"
   ]
  },
  {
   "cell_type": "code",
   "execution_count": 76,
   "id": "2c5dd5c0",
   "metadata": {},
   "outputs": [],
   "source": [
    "class Atm:\n",
    "    #to provatise these instance varible so that can not accesed outside the class\n",
    "    def __init__(self):\n",
    "       self.__pin=\"\"\n",
    "       self.__balance=0\n",
    "       self.menu()\n",
    "        \n",
    "    def get_pin(self):\n",
    "        return self.__pin\n",
    "    \n",
    "    def set_pin(self,new_pin):\n",
    "        if type(new_pin)==int :\n",
    "            self.__pin=new_pin\n",
    "            print('pin changed')\n",
    "        else:\n",
    "            print('invalid')\n",
    "    \n",
    "    def menu(self):\n",
    "        user_input=input('''\n",
    "        Hello,how would you like to processed ?\n",
    "        1.Enter 1 to create pin\n",
    "        2.Enter 2 to deposite \n",
    "        3.Enter 3 to withdraw\n",
    "        4.Enter 4 to check balance\n",
    "        5.Enter 5 to exit\n",
    "        ''')\n",
    "        \n",
    "        if user_input=='1':\n",
    "            self.create_pin()\n",
    "        elif user_input=='2':\n",
    "            self.deposite()\n",
    "        elif user_input=='3':\n",
    "            self.withdraw\n",
    "        elif user_input=='4':\n",
    "            self.check_balance()\n",
    "        else:\n",
    "            print('Exit')\n",
    "            \n",
    "    def create_pin(self):\n",
    "        self.__pin=int(input('enter your pin'))\n",
    "        print('pin set sucessfully')\n",
    "        \n",
    "    def deposite(self):\n",
    "        temp=int(input('enter your pin'))\n",
    "        if temp==self.__pin:\n",
    "            amount=int(input('Enter your amout'))\n",
    "            self.__balance=self.__balance+amount\n",
    "        else:\n",
    "            print('invalid pin')\n",
    "            \n",
    "    def withdraw(self):\n",
    "        temp=int(input('enter your pin'))\n",
    "        if temp==self.__pin:\n",
    "            amount=int(input('Enter amount'))\n",
    "            if amount<self.__balance:\n",
    "                self.__balance=self.__balance-amount\n",
    "                print('Operation Sucessful')\n",
    "            else:\n",
    "                print('insufficient funda')\n",
    "        else:\n",
    "            print('invalid pin')\n",
    "    def check_balance(self):\n",
    "        temp=int(input('enter your pin'))\n",
    "        if temp==self.__pin:\n",
    "            print(self.__balance)\n",
    "        else:\n",
    "            print('invalid pin')\n",
    "    "
   ]
  },
  {
   "cell_type": "code",
   "execution_count": 77,
   "id": "0cedd4a9",
   "metadata": {},
   "outputs": [
    {
     "name": "stdout",
     "output_type": "stream",
     "text": [
      "\n",
      "        Hello,how would you like to processed ?\n",
      "        1.Enter 1 to create pin\n",
      "        2.Enter 2 to deposite \n",
      "        3.Enter 3 to withdraw\n",
      "        4.Enter 4 to check balance\n",
      "        5.Enter 5 to exit\n",
      "        1\n",
      "enter your pin1601\n",
      "pin set sucessfully\n"
     ]
    },
    {
     "data": {
      "text/plain": [
       "<__main__.Atm at 0x1507934dbd0>"
      ]
     },
     "execution_count": 77,
     "metadata": {},
     "output_type": "execute_result"
    }
   ],
   "source": [
    "Atm()"
   ]
  },
  {
   "cell_type": "code",
   "execution_count": null,
   "id": "76b82ead",
   "metadata": {},
   "outputs": [],
   "source": [
    "#When we are creating the object, the object stroed in the variable is called referance variable\n",
    "hdfc=Atm()"
   ]
  },
  {
   "cell_type": "code",
   "execution_count": null,
   "id": "d6ce6b20",
   "metadata": {},
   "outputs": [],
   "source": [
    "#pass by refereance :-"
   ]
  },
  {
   "cell_type": "code",
   "execution_count": 11,
   "id": "6a76221d",
   "metadata": {},
   "outputs": [],
   "source": [
    "class Customer:\n",
    "    def __init__(self,name):\n",
    "        self.name=name\n",
    "        \n",
    "cust=Customer('katrina')"
   ]
  },
  {
   "cell_type": "code",
   "execution_count": 19,
   "id": "a413887a",
   "metadata": {},
   "outputs": [],
   "source": [
    "def greet(customer):\n",
    "    print(id(customer))\n",
    "        "
   ]
  },
  {
   "cell_type": "code",
   "execution_count": 16,
   "id": "87403d74",
   "metadata": {},
   "outputs": [
    {
     "name": "stdout",
     "output_type": "stream",
     "text": [
      "2157855369120\n"
     ]
    }
   ],
   "source": [
    "print(id(cust))"
   ]
  },
  {
   "cell_type": "code",
   "execution_count": 20,
   "id": "e044cae7",
   "metadata": {},
   "outputs": [
    {
     "name": "stdout",
     "output_type": "stream",
     "text": [
      "2157855369120\n"
     ]
    }
   ],
   "source": [
    "greet(cust)"
   ]
  },
  {
   "cell_type": "code",
   "execution_count": null,
   "id": "e3812961",
   "metadata": {},
   "outputs": [],
   "source": [
    "#class ke object is mutable "
   ]
  },
  {
   "cell_type": "code",
   "execution_count": null,
   "id": "d359c5c1",
   "metadata": {},
   "outputs": [],
   "source": [
    "#collections of object"
   ]
  },
  {
   "cell_type": "code",
   "execution_count": 8,
   "id": "deb7f6ab",
   "metadata": {},
   "outputs": [],
   "source": [
    "class Customer:\n",
    "    def __init__(self,name,age):\n",
    "        self.name=name\n",
    "        self.age=age\n",
    "        \n",
    "    def intro(self):\n",
    "        print(\"I am \",self.name,\"and i am \",self.age)\n",
    "        \n",
    "        \n",
    "        "
   ]
  },
  {
   "cell_type": "code",
   "execution_count": 9,
   "id": "ea09deb6",
   "metadata": {},
   "outputs": [],
   "source": [
    "c1=Customer('pratik',23)\n",
    "c2=Customer('neha',20)\n",
    "c3=Customer('jack',23)\n",
    "l=[c1,c2,c3]"
   ]
  },
  {
   "cell_type": "code",
   "execution_count": 10,
   "id": "7748b50f",
   "metadata": {},
   "outputs": [
    {
     "name": "stdout",
     "output_type": "stream",
     "text": [
      "I am  pratik and i am  23\n",
      "I am  neha and i am  20\n",
      "I am  jack and i am  23\n"
     ]
    }
   ],
   "source": [
    "for i in l:\n",
    "    i.intro()"
   ]
  },
  {
   "cell_type": "code",
   "execution_count": null,
   "id": "dfa16ed3",
   "metadata": {},
   "outputs": [],
   "source": [
    "#static"
   ]
  },
  {
   "cell_type": "markdown",
   "id": "d9308270",
   "metadata": {},
   "source": [
    "There is two type of variable \n",
    "1.instance variable:-the value of every variable is different for different object e.g pin and balance\n",
    "2.static variable:-it is the variable for which the value will not change\n",
    "(e.g ifsc of bank)"
   ]
  },
  {
   "cell_type": "markdown",
   "id": "363972b5",
   "metadata": {},
   "source": [
    "instance variable is inside the counstructor\n",
    "Static variable is writen outside the counstructor\n"
   ]
  },
  {
   "cell_type": "code",
   "execution_count": null,
   "id": "aadfaa0c",
   "metadata": {},
   "outputs": [],
   "source": [
    "#here is task to give the serial number to the every customer"
   ]
  },
  {
   "cell_type": "code",
   "execution_count": 41,
   "id": "5541e1f2",
   "metadata": {},
   "outputs": [],
   "source": [
    "class Atm:\n",
    "    #to provatise these instance varible so that can not accesed outside the class\n",
    "    \n",
    "    #static/class\n",
    "    \n",
    "    __counter=1\n",
    "    \n",
    "    def __init__(self):\n",
    "       self.__pin=\"\"\n",
    "       self.__balance=0\n",
    "       #the static variable  is call by class name\n",
    "       self.sno=Atm.__counter\n",
    "       Atm.counter=Atm.counter+1\n",
    "       #self.menu()\n",
    "        \n",
    "    def get_pin(self):\n",
    "        return self.__pin\n",
    "    \n",
    "    def set_pin(self,new_pin):\n",
    "        if type(new_pin)==int :\n",
    "            self.__pin=new_pin\n",
    "            print('pin changed')\n",
    "        else:\n",
    "            print('invalid')\n",
    "    @staticmethod\n",
    "    def get_counter():\n",
    "        return Atm.__counter\n",
    "    @staticmethod\n",
    "    def set_counter(new):\n",
    "        if type(new)==int:\n",
    "            Atm.__counter=new\n",
    "        else:\n",
    "            print('Not allowed')\n",
    "        \n",
    "    \n",
    "    def menu(self):\n",
    "        user_input=input('''\n",
    "        Hello,how would you like to processed ?\n",
    "        1.Enter 1 to create pin\n",
    "        2.Enter 2 to deposite \n",
    "        3.Enter 3 to withdraw\n",
    "        4.Enter 4 to check balance\n",
    "        5.Enter 5 to exit\n",
    "        ''')\n",
    "        \n",
    "        if user_input=='1':\n",
    "            self.create_pin()\n",
    "        elif user_input=='2':\n",
    "            self.deposite()\n",
    "        elif user_input=='3':\n",
    "            self.withdraw\n",
    "        elif user_input=='4':\n",
    "            self.check_balance()\n",
    "        else:\n",
    "            print('Exit')\n",
    "            \n",
    "    def create_pin(self):\n",
    "        self.__pin=int(input('enter your pin'))\n",
    "        print('pin set sucessfully')\n",
    "        \n",
    "    def deposite(self):\n",
    "        temp=int(input('enter your pin'))\n",
    "        if temp==self.__pin:\n",
    "            amount=int(input('Enter your amout'))\n",
    "            self.__balance=self.__balance+amount\n",
    "        else:\n",
    "            print('invalid pin')\n",
    "            \n",
    "    def withdraw(self):\n",
    "        temp=int(input('enter your pin'))\n",
    "        if temp==self.__pin:\n",
    "            amount=int(input('Enter amount'))\n",
    "            if amount<self.__balance:\n",
    "                self.__balance=self.__balance-amount\n",
    "                print('Operation Sucessful')\n",
    "            else:\n",
    "                print('insufficient funda')\n",
    "        else:\n",
    "            print('invalid pin')\n",
    "    def check_balance(self):\n",
    "        temp=int(input('enter your pin'))\n",
    "        if temp==self.__pin:\n",
    "            print(self.__balance)\n",
    "        else:\n",
    "            print('invalid pin')\n",
    "    "
   ]
  },
  {
   "cell_type": "code",
   "execution_count": 14,
   "id": "378cba0f",
   "metadata": {},
   "outputs": [],
   "source": [
    "c1=Atm()"
   ]
  },
  {
   "cell_type": "code",
   "execution_count": 15,
   "id": "9a3e6bbd",
   "metadata": {},
   "outputs": [],
   "source": [
    "c2=Atm()"
   ]
  },
  {
   "cell_type": "code",
   "execution_count": 16,
   "id": "0287b573",
   "metadata": {},
   "outputs": [],
   "source": [
    "c3=Atm()"
   ]
  },
  {
   "cell_type": "code",
   "execution_count": 19,
   "id": "dc4baa80",
   "metadata": {},
   "outputs": [
    {
     "data": {
      "text/plain": [
       "3"
      ]
     },
     "execution_count": 19,
     "metadata": {},
     "output_type": "execute_result"
    }
   ],
   "source": [
    "c3.sno"
   ]
  },
  {
   "cell_type": "code",
   "execution_count": null,
   "id": "3ce35fa9",
   "metadata": {},
   "outputs": [],
   "source": [
    "#here serial number is change \n",
    "#but counter value is same like last "
   ]
  },
  {
   "cell_type": "code",
   "execution_count": 21,
   "id": "054833d8",
   "metadata": {},
   "outputs": [
    {
     "data": {
      "text/plain": [
       "4"
      ]
     },
     "execution_count": 21,
     "metadata": {},
     "output_type": "execute_result"
    }
   ],
   "source": [
    "c2.counter"
   ]
  },
  {
   "cell_type": "code",
   "execution_count": 23,
   "id": "ab401dfa",
   "metadata": {},
   "outputs": [
    {
     "data": {
      "text/plain": [
       "4"
      ]
     },
     "execution_count": 23,
     "metadata": {},
     "output_type": "execute_result"
    }
   ],
   "source": [
    "Atm.counter"
   ]
  },
  {
   "cell_type": "code",
   "execution_count": 24,
   "id": "35b8e8bd",
   "metadata": {},
   "outputs": [
    {
     "data": {
      "text/plain": [
       "2"
      ]
     },
     "execution_count": 24,
     "metadata": {},
     "output_type": "execute_result"
    }
   ],
   "source": [
    "c2.sno"
   ]
  },
  {
   "cell_type": "code",
   "execution_count": null,
   "id": "02ba9687",
   "metadata": {},
   "outputs": [],
   "source": [
    "#to provatise the satic variable   apply __before varoable"
   ]
  },
  {
   "cell_type": "code",
   "execution_count": null,
   "id": "04d108b4",
   "metadata": {},
   "outputs": [],
   "source": [
    "#to give the acess hide  variable define get and setter method\n"
   ]
  },
  {
   "cell_type": "code",
   "execution_count": 27,
   "id": "8d6049ba",
   "metadata": {},
   "outputs": [
    {
     "ename": "TypeError",
     "evalue": "Atm.get_counter() missing 1 required positional argument: 'self'",
     "output_type": "error",
     "traceback": [
      "\u001b[1;31m---------------------------------------------------------------------------\u001b[0m",
      "\u001b[1;31mTypeError\u001b[0m                                 Traceback (most recent call last)",
      "Cell \u001b[1;32mIn[27], line 1\u001b[0m\n\u001b[1;32m----> 1\u001b[0m \u001b[43mAtm\u001b[49m\u001b[38;5;241;43m.\u001b[39;49m\u001b[43mget_counter\u001b[49m\u001b[43m(\u001b[49m\u001b[43m)\u001b[49m\n",
      "\u001b[1;31mTypeError\u001b[0m: Atm.get_counter() missing 1 required positional argument: 'self'"
     ]
    }
   ],
   "source": [
    "Atm.get_counter()"
   ]
  },
  {
   "cell_type": "code",
   "execution_count": null,
   "id": "7ea53167",
   "metadata": {},
   "outputs": [],
   "source": [
    "#the above error is due to we can pass the self to it but we dont need so dont pass it\n",
    "#in simple word to access the static method we do not need object"
   ]
  },
  {
   "cell_type": "code",
   "execution_count": 30,
   "id": "54018713",
   "metadata": {},
   "outputs": [
    {
     "data": {
      "text/plain": [
       "1"
      ]
     },
     "execution_count": 30,
     "metadata": {},
     "output_type": "execute_result"
    }
   ],
   "source": [
    "#initially it is 1\n",
    "Atm.get_counter()"
   ]
  },
  {
   "cell_type": "code",
   "execution_count": 42,
   "id": "d7197d41",
   "metadata": {},
   "outputs": [],
   "source": [
    "Atm.set_counter(5)"
   ]
  },
  {
   "cell_type": "code",
   "execution_count": 43,
   "id": "bf222e80",
   "metadata": {},
   "outputs": [
    {
     "data": {
      "text/plain": [
       "5"
      ]
     },
     "execution_count": 43,
     "metadata": {},
     "output_type": "execute_result"
    }
   ],
   "source": [
    "Atm.get_counter()"
   ]
  }
 ],
 "metadata": {
  "kernelspec": {
   "display_name": "Python 3 (ipykernel)",
   "language": "python",
   "name": "python3"
  },
  "language_info": {
   "codemirror_mode": {
    "name": "ipython",
    "version": 3
   },
   "file_extension": ".py",
   "mimetype": "text/x-python",
   "name": "python",
   "nbconvert_exporter": "python",
   "pygments_lexer": "ipython3",
   "version": "3.10.9"
  }
 },
 "nbformat": 4,
 "nbformat_minor": 5
}
